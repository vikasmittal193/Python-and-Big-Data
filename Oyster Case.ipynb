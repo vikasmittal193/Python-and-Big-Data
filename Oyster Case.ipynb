{
 "cells": [
  {
   "cell_type": "code",
   "execution_count": 38,
   "metadata": {},
   "outputs": [],
   "source": [
    "class StationandFare(object):\n",
    "    #this class contains station names and the zone in which they are in\n",
    "    \n",
    "    STATIONS = {\n",
    "        \"Holborn\":[1],\n",
    "        \"Aldgate\":[1],\n",
    "        \"Earl's Court\":[1,2],\n",
    "        \"Hammersmith\":[2],\n",
    "        \"Arsenal\":[2],\n",
    "        \"Wimbledon\":[3]\n",
    "    }\n",
    "    \n",
    "    max_fare = 3.20\n",
    "    bus_fare = 1.8\n",
    "    zone_one_fare = 2.50\n",
    "    one_zone_outside_zone1_fare = 2.00\n",
    "    two_zone_with_zone1_fare = 3.00\n",
    "    two_zone_without_zone1_fare = 2.25\n",
    "    more_than_two_zones = 3.20\n",
    "    \n",
    "    def __init__(self):\n",
    "        print(\"in StudentandFare class \")\n",
    "        \n",
    "    def get_station_info(self,name):\n",
    "        #checking if the station do exists\n",
    "        if name in STATIONS:\n",
    "            zone = self.STATIONS[name]\n",
    "            return zone\n",
    "        else:\n",
    "            print(\"The Station doesn't exists. Please enter correct station\")\n",
    "\n"
   ]
  },
  {
   "cell_type": "code",
   "execution_count": 39,
   "metadata": {},
   "outputs": [],
   "source": [
    "\n",
    "\n",
    "class Journey(object):\n",
    "    \n",
    "    jrny_type = 'bus'\n",
    "    \n",
    "    def __init__(self):\n",
    "        self.journey = {'start':None,'end':None}\n",
    "        self._sf = StationandFare()\n",
    "        \n",
    "    def get_start_point(self, station, jrny_type):\n",
    "        self.journey['start'] = station\n",
    "        self.jrny_type = jrny_type\n",
    "        return self\n",
    "    \n",
    "    def get_end_point(self, station, jrny_type):\n",
    "        self.journey['end'] = station\n",
    "        self.jrny_type = jrny_type\n",
    "        return self\n",
    "    \n",
    "    def get_journey_cost(self):\n",
    "        start_station  = self.journey['start']\n",
    "        start_zone  = StationandFare.get_station_info(start_station)\n",
    "        end_station = self.journey['end']\n",
    "        end_zone = StationandFare.get_station_info(end_station)\n",
    "        journey_zones = get_zones(start_zone, end_zone)\n",
    "        \n",
    "    def get_cost_by_zone(self,start_zone, end_zone):\n",
    "        \n",
    "        if(self.jrny_type != 'bus'):\n",
    "            if((len(start_zone)==1)and (len(end_zone)==1)):\n",
    "                zones_crossed = abs(int(start_zone[0]) - int(end_zone[0])) +1 \n",
    "                if((zones_crossed==1) and (start_zone[0]==1) and (end_zone[0]==1)):\n",
    "                    return _sf.zone_one_fare\n",
    "                elif((zones_crossed==1) and (start_zone[0]==2) and (end_zone[0]==2)):\n",
    "                    return _sf.one_zone_outside_zone1_fare\n",
    "                elif((zones_crossed==2) and ((start_zone[0]==1) and (end_zone[0]==2)) or ((start_zone[0]==2) and (end_zone[0]==1))):\n",
    "                    return _sf.two_zone_with_zone1_fare\n",
    "                elif((zones_crossed==2) and ((start_zone[0]==2) and (end_zone[0]==3)) or ((start_zone[0]==3) and (end_zone[0]==2))):\n",
    "                    return _sf.two_zone_without_zone1_fare\n",
    "                elif((zones_crossed>=2)):\n",
    "                    return _sf.more_than_two_zones\n",
    "            else:\n",
    "                min_fare = []\n",
    "                if(len(start_zone) > 1):\n",
    "                    for zone in start_zone:\n",
    "                        fare = get_cost_by_zone(zone,end_zone)\n",
    "                        min_fare.append(fare)\n",
    "                        return min(min_fare)\n",
    "                elif(len(end_zone)>1):\n",
    "                    for zone in end_zone:\n",
    "                        fare = get_cost_by_zone(start_zone,zone)\n",
    "                        min_fare.append(fare)\n",
    "                        return min(min_fare)\n",
    "        else:\n",
    "            return _sf.bus_fare\n"
   ]
  },
  {
   "cell_type": "code",
   "execution_count": 42,
   "metadata": {},
   "outputs": [
    {
     "ename": "ModuleNotFoundError",
     "evalue": "No module named 'Journey'",
     "output_type": "error",
     "traceback": [
      "\u001b[1;31m---------------------------------------------------------------------------\u001b[0m",
      "\u001b[1;31mModuleNotFoundError\u001b[0m                       Traceback (most recent call last)",
      "\u001b[1;32m<ipython-input-42-bdd4de70fb97>\u001b[0m in \u001b[0;36m<module>\u001b[1;34m\u001b[0m\n\u001b[1;32m----> 1\u001b[1;33m \u001b[1;32mfrom\u001b[0m \u001b[0mJourney\u001b[0m \u001b[1;32mimport\u001b[0m \u001b[0mJourney\u001b[0m\u001b[1;33m\u001b[0m\u001b[1;33m\u001b[0m\u001b[0m\n\u001b[0m\u001b[0;32m      2\u001b[0m \u001b[1;33m\u001b[0m\u001b[0m\n\u001b[0;32m      3\u001b[0m \u001b[1;32mclass\u001b[0m \u001b[0mCard\u001b[0m\u001b[1;33m(\u001b[0m\u001b[0mobject\u001b[0m\u001b[1;33m)\u001b[0m\u001b[1;33m:\u001b[0m\u001b[1;33m\u001b[0m\u001b[1;33m\u001b[0m\u001b[0m\n\u001b[0;32m      4\u001b[0m     \u001b[0mcurrent_balance\u001b[0m \u001b[1;33m=\u001b[0m \u001b[1;36m30\u001b[0m\u001b[1;33m\u001b[0m\u001b[1;33m\u001b[0m\u001b[0m\n\u001b[0;32m      5\u001b[0m \u001b[1;33m\u001b[0m\u001b[0m\n",
      "\u001b[1;31mModuleNotFoundError\u001b[0m: No module named 'Journey'"
     ]
    }
   ],
   "source": [
    "from Journey import Journey\n",
    "\n",
    "class Card(object):\n",
    "    current_balance = 30\n",
    "    \n",
    "    def __init__(self):\n",
    "        self._journey = Journey()\n",
    "        self._studfare = StationandFare()\n",
    "        \n",
    "    def deduct_max(self):\n",
    "        self.current_balance = current_balance - _studfare.max_fare\n",
    "        \n",
    "    def actual_fare(self,cost):\n",
    "        self.current_fare = self.current_fare - cost + _studfare.max_fare"
   ]
  },
  {
   "cell_type": "code",
   "execution_count": 43,
   "metadata": {},
   "outputs": [
    {
     "name": "stdout",
     "output_type": "stream",
     "text": [
      "in if\n",
      "in StudentandFare class \n",
      "in StudentandFare class \n"
     ]
    },
    {
     "ename": "AttributeError",
     "evalue": "'testclass' object has no attribute '_studfare'",
     "output_type": "error",
     "traceback": [
      "\u001b[1;31m---------------------------------------------------------------------------\u001b[0m",
      "\u001b[1;31mAttributeError\u001b[0m                            Traceback (most recent call last)",
      "\u001b[1;32m<ipython-input-43-d7d4ee5df7c7>\u001b[0m in \u001b[0;36m<module>\u001b[1;34m\u001b[0m\n\u001b[1;32m----> 1\u001b[1;33m \u001b[1;32mclass\u001b[0m \u001b[0mtestclass\u001b[0m\u001b[1;33m(\u001b[0m\u001b[0mobject\u001b[0m\u001b[1;33m)\u001b[0m\u001b[1;33m:\u001b[0m\u001b[1;33m\u001b[0m\u001b[1;33m\u001b[0m\u001b[0m\n\u001b[0m\u001b[0;32m      2\u001b[0m \u001b[1;33m\u001b[0m\u001b[0m\n\u001b[0;32m      3\u001b[0m     \u001b[1;32mdef\u001b[0m \u001b[0m__init__\u001b[0m\u001b[1;33m(\u001b[0m\u001b[0mself\u001b[0m\u001b[1;33m)\u001b[0m\u001b[1;33m:\u001b[0m\u001b[1;33m\u001b[0m\u001b[1;33m\u001b[0m\u001b[0m\n\u001b[0;32m      4\u001b[0m         \u001b[0mself\u001b[0m\u001b[1;33m.\u001b[0m\u001b[0m_card\u001b[0m \u001b[1;33m=\u001b[0m \u001b[0mCard\u001b[0m\u001b[1;33m(\u001b[0m\u001b[1;33m)\u001b[0m\u001b[1;33m\u001b[0m\u001b[1;33m\u001b[0m\u001b[0m\n\u001b[0;32m      5\u001b[0m \u001b[1;33m\u001b[0m\u001b[0m\n",
      "\u001b[1;32m<ipython-input-43-d7d4ee5df7c7>\u001b[0m in \u001b[0;36mtestclass\u001b[1;34m()\u001b[0m\n\u001b[0;32m     10\u001b[0m         \u001b[0mprint\u001b[0m\u001b[1;33m(\u001b[0m\u001b[1;34m\"in if\"\u001b[0m\u001b[1;33m)\u001b[0m\u001b[1;33m\u001b[0m\u001b[1;33m\u001b[0m\u001b[0m\n\u001b[0;32m     11\u001b[0m         \u001b[0mtest\u001b[0m \u001b[1;33m=\u001b[0m \u001b[0mtestclass\u001b[0m\u001b[1;33m(\u001b[0m\u001b[1;33m)\u001b[0m\u001b[1;33m\u001b[0m\u001b[1;33m\u001b[0m\u001b[0m\n\u001b[1;32m---> 12\u001b[1;33m         \u001b[0mzone\u001b[0m \u001b[1;33m=\u001b[0m \u001b[0mtest\u001b[0m\u001b[1;33m.\u001b[0m\u001b[0m_studfare\u001b[0m\u001b[1;33m.\u001b[0m\u001b[0mget_station_info\u001b[0m\u001b[1;33m(\u001b[0m\u001b[1;34m\"Holforn\"\u001b[0m\u001b[1;33m)\u001b[0m\u001b[1;33m\u001b[0m\u001b[1;33m\u001b[0m\u001b[0m\n\u001b[0m\u001b[0;32m     13\u001b[0m         \u001b[0mprint\u001b[0m\u001b[1;33m(\u001b[0m\u001b[0mzone\u001b[0m\u001b[1;33m)\u001b[0m\u001b[1;33m\u001b[0m\u001b[1;33m\u001b[0m\u001b[0m\n",
      "\u001b[1;31mAttributeError\u001b[0m: 'testclass' object has no attribute '_studfare'"
     ]
    }
   ],
   "source": [
    "class testclass(object):\n",
    "    \n",
    "    def __init__(self):\n",
    "        self._card = Card()\n",
    "       \n",
    "    def main(self):\n",
    "        print(\"in the test class\")\n",
    "    \n",
    "    if __name__ == \"__main__\":\n",
    "        print(\"in if\")\n",
    "        test = testclass()\n",
    "        zone = test._studfare.get_station_info(\"Holforn\")\n",
    "        print(zone)"
   ]
  },
  {
   "cell_type": "code",
   "execution_count": null,
   "metadata": {},
   "outputs": [],
   "source": []
  }
 ],
 "metadata": {
  "kernelspec": {
   "display_name": "Python 3",
   "language": "python",
   "name": "python3"
  },
  "language_info": {
   "codemirror_mode": {
    "name": "ipython",
    "version": 3
   },
   "file_extension": ".py",
   "mimetype": "text/x-python",
   "name": "python",
   "nbconvert_exporter": "python",
   "pygments_lexer": "ipython3",
   "version": "3.7.3"
  }
 },
 "nbformat": 4,
 "nbformat_minor": 2
}
