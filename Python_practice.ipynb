{
 "cells": [
  {
   "cell_type": "code",
   "execution_count": 1,
   "metadata": {},
   "outputs": [],
   "source": [
    "a = [1, 1, 2, 3, 5, 8, 13, 21, 34, 55, 89]"
   ]
  },
  {
   "cell_type": "code",
   "execution_count": 5,
   "metadata": {},
   "outputs": [
    {
     "name": "stdout",
     "output_type": "stream",
     "text": [
      "[1, 1, 2, 3]\n"
     ]
    }
   ],
   "source": [
    "b = print([i for i in a if(i < 5)])"
   ]
  },
  {
   "cell_type": "code",
   "execution_count": 6,
   "metadata": {},
   "outputs": [],
   "source": [
    "a = [1, 1, 2, 3, 5, 8, 13, 21, 34, 55, 89]\n",
    "b = [1, 2, 3, 4, 5, 6, 7, 8, 9, 10, 11, 12, 13]"
   ]
  },
  {
   "cell_type": "code",
   "execution_count": 7,
   "metadata": {},
   "outputs": [
    {
     "name": "stdout",
     "output_type": "stream",
     "text": [
      "{1, 2, 3, 5, 8, 13}\n"
     ]
    }
   ],
   "source": [
    "c = print(set([i for i in a if(i in b)]))"
   ]
  },
  {
   "cell_type": "code",
   "execution_count": 17,
   "metadata": {},
   "outputs": [
    {
     "name": "stdout",
     "output_type": "stream",
     "text": [
      "not pallindrome\n"
     ]
    }
   ],
   "source": [
    "a = 'vikas'\n",
    "l = len(a)-1\n",
    "n,flag = 0,False\n",
    "for i in range(0, len(a)):\n",
    "    if(a[n]==a[l]):\n",
    "        n+=1\n",
    "        l-=1\n",
    "        flag = True\n",
    "    else:\n",
    "        flag = False\n",
    "        break\n",
    "if(flag):\n",
    "    print(\"pallindrome\")\n",
    "else:\n",
    "    print(\"not pallindrome\")"
   ]
  },
  {
   "cell_type": "code",
   "execution_count": 19,
   "metadata": {},
   "outputs": [
    {
     "name": "stdout",
     "output_type": "stream",
     "text": [
      "pallindrome\n"
     ]
    }
   ],
   "source": [
    "a = 'arora'\n",
    "b = ''\n",
    "for i in range(len(a)-1,-1,-1):\n",
    "    b+=a[i]\n",
    "if(a==b):\n",
    "    print(\"pallindrome\")\n",
    "else:\n",
    "    print(\"not pallindrome\")"
   ]
  },
  {
   "cell_type": "code",
   "execution_count": 23,
   "metadata": {},
   "outputs": [
    {
     "name": "stdout",
     "output_type": "stream",
     "text": [
      "Type 'quit' to exit:d\n",
      "player 1 turn r\n",
      "player 2 turn r\n",
      "invalid input\n"
     ]
    }
   ],
   "source": [
    "#rock-scissor game\n",
    "quit = input(\"Type 'quit' to exit:\")\n",
    "while quit != 'quit':\n",
    "    #quit = input(\"Type 'quit' to exit:\")\n",
    "    p1 = input(\"player 1 turn \")\n",
    "    p2 = input(\"player 2 turn \")\n",
    "    if((p1 == 'rock') and (p2 == 'scissor')):\n",
    "        print(\"p1 beats p2\")\n",
    "    elif((p1 == 'scissor') and (p2 == 'paper')):\n",
    "        print(\"p1 beats p2\")\n",
    "    elif((p1 == 'paper') and (p2 == 'rock')):\n",
    "        print(\"p1 beats p2\")\n",
    "    elif((p2 == 'scissor') and (p1 == 'paper')):\n",
    "        print(\"p2 beats p1\")\n",
    "    elif((p2 == 'paper') and (p1 == 'rock')):\n",
    "        print(\"p2 beats p1\")\n",
    "    elif((p2 == 'rock') and (p1 == 'scissor')):\n",
    "        print(\"p2 beats p1\")\n",
    "    else:\n",
    "        print(\"invalid input\")\n",
    "        break\n",
    "\n",
    "    "
   ]
  },
  {
   "cell_type": "code",
   "execution_count": 32,
   "metadata": {},
   "outputs": [
    {
     "name": "stdout",
     "output_type": "stream",
     "text": [
      "Type 'quit' to exite\n",
      "Guess the number4\n",
      "guess a higher number\n",
      "Guess the number6\n",
      "guess a higher number\n",
      "Guess the number8\n",
      "your guess is right\n",
      "Tries taken: 3 \n",
      "3\n"
     ]
    }
   ],
   "source": [
    "import random\n",
    "r = random.randint(1,9)\n",
    "quit = input(\"Type 'quit' to exit\")\n",
    "i=0\n",
    "count = 0\n",
    "while quit != 'quit':\n",
    "    i = int(input(\"Guess the number\"))\n",
    "    if(r < i):\n",
    "        count+=1\n",
    "        print(\"guess a lower number\")\n",
    "    elif(r > i):\n",
    "        count+=1\n",
    "        print(\"guess a higher number\")\n",
    "    else:\n",
    "        count+=1\n",
    "        print(\"your guess is right\")\n",
    "        print(\"Tries taken: %s \"%str(count))\n",
    "        break\n",
    "#quit = input(\"Type 'quit' to exit\")"
   ]
  },
  {
   "cell_type": "code",
   "execution_count": 1,
   "metadata": {},
   "outputs": [
    {
     "name": "stdout",
     "output_type": "stream",
     "text": [
      "[1, 1, 2, 3, 5, 8, 13]\n"
     ]
    }
   ],
   "source": [
    "### common elements in two lists\n",
    "a = [1, 1, 2, 3, 5, 8, 13, 21, 34, 55, 89]\n",
    "b = [1, 2, 3, 4, 5, 6, 7, 8, 9, 10, 11, 12, 13]\n",
    "\n",
    "ab = [i for i in a if(i in b)]\n",
    "print(ab)"
   ]
  },
  {
   "cell_type": "code",
   "execution_count": 1,
   "metadata": {},
   "outputs": [
    {
     "name": "stdout",
     "output_type": "stream",
     "text": [
      "Enter the number3\n",
      "3 is a prime number\n"
     ]
    }
   ],
   "source": [
    "num = int(input(\"Enter the number\"))\n",
    "if(num==1):\n",
    "    print(\"it is a prime number\")\n",
    "    exit()\n",
    "start=2\n",
    "flag=False\n",
    "while(start< num):\n",
    "    if(num%start==0):\n",
    "        print(\"Not a prime number\")\n",
    "        flag=True\n",
    "        break\n",
    "    start+=1\n",
    "if(flag==False):\n",
    "    print('%s is a prime number'%num)"
   ]
  },
  {
   "cell_type": "code",
   "execution_count": 2,
   "metadata": {},
   "outputs": [
    {
     "data": {
      "text/plain": [
       "[5, 25]"
      ]
     },
     "execution_count": 2,
     "metadata": {},
     "output_type": "execute_result"
    }
   ],
   "source": [
    "a = [5, 10, 15, 20, 25]\n",
    "al = [a[i] for i in range(len(a)) if(i in (0,len(a)-1))]\n",
    "al"
   ]
  },
  {
   "cell_type": "code",
   "execution_count": 11,
   "metadata": {},
   "outputs": [
    {
     "name": "stdout",
     "output_type": "stream",
     "text": [
      "Enter the length of fibonicci series, 0 to quit 3\n",
      "[1, 1, 2]\n",
      "Enter the length of fibonicci series, 0 to quit 5\n",
      "[1, 1, 2, 3, 5]\n",
      "Enter the length of fibonicci series, 0 to quit 0\n",
      "Enter a positive number\n"
     ]
    }
   ],
   "source": [
    "## fibonicci series\n",
    "#list_len = int(input(\"Enter the length of fibonicci series\"))\n",
    "\n",
    "def fibonicci(list_len):\n",
    "    if(list_len==1):\n",
    "        return [1]\n",
    "    elif(list_len==2):\n",
    "        return [1,1]\n",
    "    else:\n",
    "        a,b=1,1\n",
    "        li = [a,b]\n",
    "        for i in range(list_len-2):\n",
    "            c = a+b\n",
    "            a = b\n",
    "            b = c\n",
    "            li.append(c)\n",
    "        return li\n",
    "list_len=1\n",
    "while(list_len > 0):\n",
    "    list_len = int(input(\"Enter the length of fibonicci series, 0 to quit \"))\n",
    "    if(list_len<=0):\n",
    "        print(\"Enter a positive number\")\n",
    "    else:\n",
    "        li = fibonicci(list_len)\n",
    "        print(li)"
   ]
  },
  {
   "cell_type": "code",
   "execution_count": 16,
   "metadata": {},
   "outputs": [
    {
     "name": "stdout",
     "output_type": "stream",
     "text": [
      "['Michele', 'Robin', 'Sara']\n"
     ]
    }
   ],
   "source": [
    "### removing duplicates\n",
    "a = [\"Michele\", \"Robin\", \"Sara\", \"Michele\"]\n",
    "b=[]\n",
    "for name in a:\n",
    "    if(name not in b):\n",
    "        b.append(name)\n",
    "print(b)"
   ]
  },
  {
   "cell_type": "code",
   "execution_count": 18,
   "metadata": {},
   "outputs": [
    {
     "name": "stdout",
     "output_type": "stream",
     "text": [
      "Michele is name My \n"
     ]
    }
   ],
   "source": [
    "### typing words in reverse order\n",
    "s = 'My name is Michele'\n",
    "slist = s.split()\n",
    "out=''\n",
    "for i in range(len(slist)-1,-1,-1):\n",
    "    out+=slist[i]+' '\n",
    "print(out)"
   ]
  },
  {
   "cell_type": "code",
   "execution_count": 23,
   "metadata": {},
   "outputs": [
    {
     "name": "stdout",
     "output_type": "stream",
     "text": [
      "Enter length of desired password8\n",
      "izflCaGv\n"
     ]
    }
   ],
   "source": [
    "### random password generator\n",
    "import random\n",
    "\n",
    "s = 'abcdefghijklmnopqrstuvwxyz1234567890ABCDEFGHIJKLMNOPQRSTUVWXYZ!@#$%^&*'\n",
    "passlen = int(input(\"Enter length of desired password\"))\n",
    "print(''.join(random.sample(s,passlen)))"
   ]
  },
  {
   "cell_type": "code",
   "execution_count": 29,
   "metadata": {},
   "outputs": [
    {
     "ename": "AttributeError",
     "evalue": "'NoneType' object has no attribute 'string'",
     "output_type": "error",
     "traceback": [
      "\u001b[0;31m---------------------------------------------------------------------------\u001b[0m",
      "\u001b[0;31mAttributeError\u001b[0m                            Traceback (most recent call last)",
      "\u001b[0;32m<ipython-input-29-0d90c5f402ec>\u001b[0m in \u001b[0;36m<module>\u001b[0;34m\u001b[0m\n\u001b[1;32m      9\u001b[0m \u001b[0msoup\u001b[0m \u001b[0;34m=\u001b[0m \u001b[0mBeautifulSoup\u001b[0m\u001b[0;34m(\u001b[0m\u001b[0mr_html\u001b[0m\u001b[0;34m)\u001b[0m\u001b[0;34m\u001b[0m\u001b[0;34m\u001b[0m\u001b[0m\n\u001b[1;32m     10\u001b[0m \u001b[0;31m#print(soup)\u001b[0m\u001b[0;34m\u001b[0m\u001b[0;34m\u001b[0m\u001b[0;34m\u001b[0m\u001b[0m\n\u001b[0;32m---> 11\u001b[0;31m \u001b[0mtitle\u001b[0m \u001b[0;34m=\u001b[0m \u001b[0msoup\u001b[0m\u001b[0;34m.\u001b[0m\u001b[0mfind\u001b[0m\u001b[0;34m(\u001b[0m\u001b[0;34m'span'\u001b[0m\u001b[0;34m,\u001b[0m\u001b[0;34m'title'\u001b[0m\u001b[0;34m)\u001b[0m\u001b[0;34m.\u001b[0m\u001b[0mstring\u001b[0m\u001b[0;34m\u001b[0m\u001b[0;34m\u001b[0m\u001b[0m\n\u001b[0m\u001b[1;32m     12\u001b[0m \u001b[0mprint\u001b[0m\u001b[0;34m(\u001b[0m\u001b[0mtitle\u001b[0m\u001b[0;34m)\u001b[0m\u001b[0;34m\u001b[0m\u001b[0;34m\u001b[0m\u001b[0m\n",
      "\u001b[0;31mAttributeError\u001b[0m: 'NoneType' object has no attribute 'string'"
     ]
    }
   ],
   "source": [
    "## decoding a web page\n",
    "import requests\n",
    "from bs4 import BeautifulSoup\n",
    "\n",
    "url = \"http://github.com/\"\n",
    "r = requests.get(url)\n",
    "r_html = r.text\n",
    "\n",
    "soup = BeautifulSoup(r_html)\n",
    "#print(soup)\n",
    "title = soup.find('span','title').string\n",
    "print(title)"
   ]
  },
  {
   "cell_type": "code",
   "execution_count": 45,
   "metadata": {},
   "outputs": [
    {
     "name": "stdout",
     "output_type": "stream",
     "text": [
      "4679\n",
      "Guess the 4-digit number4621\n",
      "2 0\n",
      "Guess the 4-digit number4607\n",
      "2 1\n",
      "Guess the 4-digit number4679\n",
      "The number has been guessed\n"
     ]
    }
   ],
   "source": [
    "###  cows and bulls problem\n",
    "import random, numpy as np\n",
    "\n",
    "def cowandbull(num, act):\n",
    "    cow,bull=0,0\n",
    "    for i in range(len(num)):\n",
    "        if(num[i]==act[i]):\n",
    "            cow+=1\n",
    "        elif((num[i] != act[i]) and (num[i] in act)):\n",
    "            bull+=1\n",
    "        else:\n",
    "            pass\n",
    "    return cow,bull\n",
    "    \n",
    "if __name__ == \"__main__\":\n",
    "    act = int(np.random.randint(low = 1000, high=9999, size=1))\n",
    "    print(act)\n",
    "    act = [int(x) for x in str(act)]\n",
    "    num = int(input(\"Guess the 4-digit number\"))\n",
    "    num = [int(x) for x in str(num)]\n",
    "    if(len(num)==4):\n",
    "        while(num != act):\n",
    "            cow,bull = cowandbull(num, act)\n",
    "            print(cow,bull)\n",
    "            num = input(\"Guess the 4-digit number\")\n",
    "            num = [int(x) for x in str(num)]\n",
    "                #print(cow,bull)\n",
    "    else:\n",
    "        print(\"Enter 4-digit number only\")\n",
    "        num = int(input(\"Guess the 4-digit number\"))\n",
    "    print(\"The number has been guessed\")\n"
   ]
  },
  {
   "cell_type": "code",
   "execution_count": 52,
   "metadata": {},
   "outputs": [
    {
     "name": "stdout",
     "output_type": "stream",
     "text": [
      "Enter the size of game board3\n",
      " --- --- ---\n",
      "|   |   |   |   \n",
      " --- --- ---\n",
      "|   |   |   |   \n",
      " --- --- ---\n",
      "|   |   |   |   \n",
      " --- --- ---\n"
     ]
    }
   ],
   "source": [
    "### game board 3*3\n",
    "size = int(input(\"Enter the size of game board\"))\n",
    "for i in range(size):\n",
    "    print(\" ---\"*size)\n",
    "    #print(\"---\",sep=' ')\n",
    "    print(\"|   \"*(size+1))\n",
    "print(\" ---\"*size)\n"
   ]
  },
  {
   "cell_type": "code",
   "execution_count": 53,
   "metadata": {},
   "outputs": [
    {
     "ename": "SyntaxError",
     "evalue": "invalid syntax (<ipython-input-53-9506f6474f29>, line 6)",
     "output_type": "error",
     "traceback": [
      "\u001b[0;36m  File \u001b[0;32m\"<ipython-input-53-9506f6474f29>\"\u001b[0;36m, line \u001b[0;32m6\u001b[0m\n\u001b[0;31m    if(i[j]==)\u001b[0m\n\u001b[0m             ^\u001b[0m\n\u001b[0;31mSyntaxError\u001b[0m\u001b[0;31m:\u001b[0m invalid syntax\n"
     ]
    }
   ],
   "source": [
    "### check tic toe game winner\n",
    "game = [[1, 2, 0],[2, 1, 0],[2, 1, 1]]\n",
    "\n",
    "for i in range(1):\n",
    "    for j in range(len(i)):\n",
    "        if(game[i][j]==)"
   ]
  },
  {
   "cell_type": "code",
   "execution_count": 55,
   "metadata": {},
   "outputs": [
    {
     "name": "stdout",
     "output_type": "stream",
     "text": [
      "[1, 2, 4, 5, 6, 7]\n"
     ]
    }
   ],
   "source": [
    "### bubble sort\n",
    "li = [2,5,4,7,1,6]\n",
    "\n",
    "def bubble_sort(li):\n",
    "    \n",
    "    def swap(i,j):\n",
    "        li[i],li[j] = li[j],li[i]\n",
    "    \n",
    "    swapped = True\n",
    "    x=-1\n",
    "    \n",
    "    while swapped:\n",
    "        swapped = False\n",
    "        x = x + 1\n",
    "        for a in range(1,len(li)-x):\n",
    "            if(li[a] < li[a-1]):\n",
    "                swap(a-1,a)\n",
    "            swapped= True\n",
    "    return li\n",
    "\n",
    "li = bubble_sort(li)\n",
    "print(li)"
   ]
  },
  {
   "cell_type": "code",
   "execution_count": 56,
   "metadata": {},
   "outputs": [
    {
     "name": "stdout",
     "output_type": "stream",
     "text": [
      "[1, 2, 4, 6, 5, 7]\n"
     ]
    }
   ],
   "source": [
    "## selection sort\n",
    "# in selection we chose the first element as min. and then scan the entire list and changes minimum if \n",
    "#smaller number is found\n",
    "li = [2,5,4,7,1,6]\n",
    "\n",
    "for i in range(0,len(li)):\n",
    "    minimum = i\n",
    "    \n",
    "    for j in range(i+1, len(li)):\n",
    "        if(li[j]<li[i]):\n",
    "            minimum = j\n",
    "    \n",
    "    li[i],li[minimum] = li[minimum],li[i]\n",
    "    \n",
    "    \n",
    "print(li)\n",
    "        \n"
   ]
  },
  {
   "cell_type": "code",
   "execution_count": 67,
   "metadata": {},
   "outputs": [
    {
     "name": "stdout",
     "output_type": "stream",
     "text": [
      "[1, 2, 4, 5, 6, 7]\n"
     ]
    }
   ],
   "source": [
    "## insertion sort\n",
    "# it picks first elemeny at the second position and then compare from left side values and then put it at \n",
    "# the suitable place in the left\n",
    "\n",
    "li = [2,5,4,7,1,6]\n",
    "\n",
    "def insertion_sort(li):\n",
    "    for i in range(len(li)):\n",
    "        cursor = li[i]\n",
    "        pos = i\n",
    "    \n",
    "        while pos >0 and li[pos-1] > cursor:\n",
    "            li[pos] = li[pos-1]\n",
    "            pos = pos-1\n",
    "        \n",
    "        li[pos] = cursor\n",
    "    return li\n",
    "li = insertion_sort(li)\n",
    "print(li)"
   ]
  },
  {
   "cell_type": "code",
   "execution_count": 69,
   "metadata": {},
   "outputs": [
    {
     "name": "stdout",
     "output_type": "stream",
     "text": [
      "number is present at 3 position\n"
     ]
    }
   ],
   "source": [
    "## binary search\n",
    "arr = [ 2, 3, 4, 10, 40 ] \n",
    "x = 10\n",
    "\n",
    "def binary_search(arr, l, r, x):\n",
    "    while(l <=r):\n",
    "        mid = (l+r-1)//2\n",
    "        if(arr[mid]==x):\n",
    "            return mid\n",
    "        \n",
    "        elif(x< arr[mid]):\n",
    "            r = mid -1\n",
    "            \n",
    "        else:\n",
    "            l = mid+1\n",
    "    return -1\n",
    "\n",
    "result = binary_search(arr,0,len(arr),x)\n",
    "if(result ==-1):\n",
    "    print(\"Number not present\")\n",
    "else:\n",
    "    print(\"number is present at %s position\"%result)"
   ]
  },
  {
   "cell_type": "code",
   "execution_count": 72,
   "metadata": {},
   "outputs": [
    {
     "name": "stdout",
     "output_type": "stream",
     "text": [
      "[2, 5, 8]\n"
     ]
    },
    {
     "data": {
      "text/plain": [
       "(0, 2)"
      ]
     },
     "execution_count": 72,
     "metadata": {},
     "output_type": "execute_result"
    }
   ],
   "source": [
    "### list having numbers and matching the target number\n",
    "li = [2,8,5]\n",
    "tar = 10\n",
    "\n",
    "\n",
    "def selectionsort(li):\n",
    "    for i in range(len(li)):\n",
    "        min_num = i\n",
    "        \n",
    "        for j in range(i+1,len(li)):\n",
    "            if(li[j]<li[min_num]):\n",
    "                li[j],li[min_num] = li[min_num], li[j]\n",
    "    return li\n",
    "\n",
    "def checktwonumbers(li,si,ei,tar):\n",
    "    li_sorted = selectionsort(li)\n",
    "    print(li_sorted)\n",
    "    while(si < ei):\n",
    "        if(li_sorted[si]+li_sorted[ei]==tar):\n",
    "            return(si,ei)\n",
    "        else:\n",
    "            si+=1\n",
    "            ei-=1\n",
    "\n",
    "checktwonumbers(li,0,len(li)-1,tar)\n",
    "    "
   ]
  },
  {
   "cell_type": "code",
   "execution_count": 82,
   "metadata": {},
   "outputs": [
    {
     "name": "stdout",
     "output_type": "stream",
     "text": [
      "{3: 2, 4: 5, 2: 2}\n",
      "4\n"
     ]
    }
   ],
   "source": [
    "#### majority element\n",
    "li = [3, 3, 4, 2, 4, 4, 2, 4, 4]\n",
    "n = len(li)//2\n",
    "\n",
    "dic = {}\n",
    "for num in li:\n",
    "    if(num in dic):\n",
    "        dic[num] += 1\n",
    "    else:\n",
    "        dic[num] = 1\n",
    "\n",
    "print(dic)\n",
    "for item in dic.items():\n",
    "    if(item[1]>n):\n",
    "        print(item[0])\n"
   ]
  },
  {
   "cell_type": "code",
   "execution_count": 116,
   "metadata": {},
   "outputs": [
    {
     "name": "stdout",
     "output_type": "stream",
     "text": [
      "2\n"
     ]
    }
   ],
   "source": [
    "### finding occurring odd number of times\n",
    "li = [ 2, 3, 5, 4, 5, 2, 4, 3, 5, 2, 4, 4, 2,5,2]\n",
    "\n",
    "def checkoddoccurence(li):\n",
    "    res = 0\n",
    "    for num in li:\n",
    "        res = res ^ num ##XOR operation, when with same number then 0 else number\n",
    "        #print(res)\n",
    "    return res\n",
    "\n",
    "print(\"%d\"%checkoddoccurence(li))"
   ]
  },
  {
   "cell_type": "code",
   "execution_count": 87,
   "metadata": {},
   "outputs": [
    {
     "name": "stdout",
     "output_type": "stream",
     "text": [
      "[1, 2, 4, 5, 7]\n",
      "[1, 2, 5, 7, 4]\n"
     ]
    }
   ],
   "source": [
    "### remove duplicates using different methods\n",
    "li = [1, 2, 5, 1, 7, 2, 4, 2]\n",
    "\n",
    "print(list(set(li))) ## cannot use set as this doesn't maintian the order of first occurence, sorts values\n",
    "\n",
    "## second method\n",
    "dic = {}\n",
    "unq_li= []\n",
    "\n",
    "for num in li:\n",
    "    if(num not in dic):\n",
    "        unq_li.append(num)\n",
    "        dic[num] = 1\n",
    "print(unq_li) ## use lists when maintaining order of insertion"
   ]
  },
  {
   "cell_type": "code",
   "execution_count": 108,
   "metadata": {},
   "outputs": [
    {
     "name": "stdout",
     "output_type": "stream",
     "text": [
      "3\n"
     ]
    }
   ],
   "source": [
    "### min. number of moves to reach end index\n",
    "li = [2, 1, 3, 1, 1, 5]\n",
    "n = len(li)\n",
    "def countmoves(li):\n",
    "    min_moves = 1000\n",
    "    cnt = 0\n",
    "    for i in range(0,n):\n",
    "        si = i\n",
    "        ei = n-1\n",
    "        while(si < ei):\n",
    "            #print(\"in while\")\n",
    "            #print(si,ei)\n",
    "            if(li[si]==li[ei]):\n",
    "                si = ei\n",
    "                #print(si)\n",
    "                moves = n-si\n",
    "                if((moves+cnt)<min_moves):\n",
    "                    min_moves = moves+cnt\n",
    "            else:\n",
    "                ei-=1\n",
    "        cnt+=1\n",
    "    return min_moves\n",
    "\n",
    "res = countmoves(li)\n",
    "print(res)"
   ]
  },
  {
   "cell_type": "code",
   "execution_count": 121,
   "metadata": {},
   "outputs": [
    {
     "name": "stdout",
     "output_type": "stream",
     "text": [
      "15\n"
     ]
    }
   ],
   "source": [
    "### sum of digits acc. to even number of 1's in their binary representation\n",
    "li = [4,9,15]\n",
    "\n",
    "def countOne(n):\n",
    "    count=0\n",
    "    while(n):\n",
    "        n = n & (n-1)\n",
    "        #print(n)\n",
    "        count+=1\n",
    "        \n",
    "    if(count%2==0):\n",
    "        return 1\n",
    "    else:\n",
    "        return 0\n",
    "\n",
    "def sumOfDigits(n):\n",
    "    temp = n\n",
    "    sum_num = 0\n",
    "    while(n >0):\n",
    "        rem = n%10\n",
    "        sum_num+=rem\n",
    "        n = n//10\n",
    "    #print(sum_num)\n",
    "    return sum_num\n",
    "\n",
    "tot_sum = 0\n",
    "for num in li:\n",
    "    if(countOne(num)):\n",
    "        tot_sum+=sumOfDigits(num)\n",
    "        \n",
    "print(tot_sum)"
   ]
  },
  {
   "cell_type": "code",
   "execution_count": null,
   "metadata": {},
   "outputs": [],
   "source": [
    "### reduce the number to single digit by subtracting adjacent digits\n",
    "n = 6972\n",
    "li = list(str(n))\n",
    "for i in range(len(li)):\n",
    "    "
   ]
  }
 ],
 "metadata": {
  "kernelspec": {
   "display_name": "Python 3",
   "language": "python",
   "name": "python3"
  },
  "language_info": {
   "codemirror_mode": {
    "name": "ipython",
    "version": 3
   },
   "file_extension": ".py",
   "mimetype": "text/x-python",
   "name": "python",
   "nbconvert_exporter": "python",
   "pygments_lexer": "ipython3",
   "version": "3.7.4"
  }
 },
 "nbformat": 4,
 "nbformat_minor": 2
}
